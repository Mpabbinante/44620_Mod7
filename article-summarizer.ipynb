{
 "cells": [
  {
   "cell_type": "markdown",
   "metadata": {},
   "source": [
    "# Web Mining and Applied NLP (44-620)\n",
    "\n",
    "## Final Project: Article Summarizer\n",
    "\n",
    "### Student Name: Mike Abbinante\n",
    "\n",
    "Perform the tasks described in the Markdown cells below.  When you have completed the assignment make sure your code cells have all been run (and have output beneath them) and ensure you have committed and pushed ALL of your changes to your assignment repository.\n",
    "\n",
    "You should bring in code from previous assignments to help you answer the questions below.\n",
    "\n",
    "Every question that requires you to write code will have a code cell underneath it; you may either write your entire solution in that cell or write it in a python file (`.py`), then import and run the appropriate code to answer the question."
   ]
  },
  {
   "cell_type": "code",
   "execution_count": 1,
   "metadata": {},
   "outputs": [
    {
     "name": "stderr",
     "output_type": "stream",
     "text": [
      "[nltk_data] Downloading package punkt to\n",
      "[nltk_data]     C:\\Users\\mpabb\\AppData\\Roaming\\nltk_data...\n",
      "[nltk_data]   Package punkt is already up-to-date!\n"
     ]
    },
    {
     "data": {
      "text/plain": [
       "True"
      ]
     },
     "execution_count": 1,
     "metadata": {},
     "output_type": "execute_result"
    }
   ],
   "source": [
    "from bs4 import BeautifulSoup\n",
    "from spacytextblob.spacytextblob import SpacyTextBlob\n",
    "import matplotlib.pyplot as plt\n",
    "from collections import Counter\n",
    "from nltk.tokenize import sent_tokenize\n",
    "import pickle\n",
    "import requests\n",
    "import spacy\n",
    "import numpy as np\n",
    "import nltk\n",
    "from nltk.sentiment.vader import SentimentIntensityAnalyzer\n",
    "from nltk.tokenize import sent_tokenize\n",
    "nltk.download('punkt')"
   ]
  },
  {
   "cell_type": "markdown",
   "metadata": {},
   "source": [
    "1. Find on the internet an article or blog post about a topic that interests you and you are able to get the text for using the technologies we have applied in the course.  Get the html for the article and store it in a file (which you must submit with your project)"
   ]
  },
  {
   "cell_type": "code",
   "execution_count": 2,
   "metadata": {},
   "outputs": [
    {
     "name": "stdout",
     "output_type": "stream",
     "text": [
      "HTML content saved to 'webpage.html'\n"
     ]
    }
   ],
   "source": [
    "url = \"https://news.mit.edu/2023/ai-model-can-help-determine-where-patients-cancer-arose-0807\"\n",
    "response = requests.get(url)\n",
    "\n",
    "if response.status_code == 200:\n",
    "    html_content = response.text\n",
    "\n",
    "    with open(\"Article.html\", \"w\", encoding=\"utf-8\") as file:\n",
    "        file.write(html_content)\n",
    "        print(\"HTML content saved to 'webpage.html'\")\n",
    "else:\n",
    "    print(f\"Failed to retrieve content. Status code: {response.status_code}\")"
   ]
  },
  {
   "cell_type": "markdown",
   "metadata": {},
   "source": [
    "2. Read in your article's html source from the file you created in question 1 and do sentiment analysis on the article/post's text (use `.get_text()`).  Print the polarity score with an appropriate label.  Additionally print the number of sentences in the original article (with an appropriate label)"
   ]
  },
  {
   "cell_type": "code",
   "execution_count": 3,
   "metadata": {},
   "outputs": [
    {
     "name": "stdout",
     "output_type": "stream",
     "text": [
      "Sentiment Analysis:\n",
      "Polarity Score: 0.85\n",
      "\n",
      "Sentence Count:\n",
      "Number of Sentences: 56\n"
     ]
    },
    {
     "name": "stderr",
     "output_type": "stream",
     "text": [
      "[nltk_data] Downloading package vader_lexicon to\n",
      "[nltk_data]     C:\\Users\\mpabb\\AppData\\Roaming\\nltk_data...\n",
      "[nltk_data]   Package vader_lexicon is already up-to-date!\n"
     ]
    }
   ],
   "source": [
    "# Load NLTK's VADER\n",
    "nltk.download('vader_lexicon')\n",
    "sid = SentimentIntensityAnalyzer()\n",
    "\n",
    "# Read HTML content\n",
    "with open(\"Article.html\", \"r\", encoding=\"utf-8\") as file:\n",
    "    html_content = file.read()\n",
    "\n",
    "# Parse using Beautiful Soup\n",
    "soup = BeautifulSoup(html_content, \"html.parser\")\n",
    "\n",
    "# Extract text from the article\n",
    "article_text = soup.get_text()\n",
    "\n",
    "# Perform sentiment analysis\n",
    "sentiment_scores = sid.polarity_scores(article_text)\n",
    "polarity_score = sentiment_scores['compound']\n",
    "\n",
    "# Count sentences in the article\n",
    "sentences = sent_tokenize(article_text)\n",
    "num_sentences = len(sentences)\n",
    "\n",
    "# sentiment analysis results and sentence count\n",
    "print(\"Sentiment Analysis:\")\n",
    "print(f\"Polarity Score: {polarity_score:.2f}\")\n",
    "\n",
    "print(\"\\nSentence Count:\")\n",
    "print(f\"Number of Sentences: {num_sentences}\")\n"
   ]
  },
  {
   "cell_type": "markdown",
   "metadata": {},
   "source": [
    "3. Load the article text into a trained `spaCy` pipeline, and determine the 5 most frequent tokens (converted to lower case).  Print the common tokens with an appropriate label.  Additionally, print the tokens their frequencies (with appropriate labels)"
   ]
  },
  {
   "cell_type": "code",
   "execution_count": 4,
   "metadata": {},
   "outputs": [
    {
     "name": "stdout",
     "output_type": "stream",
     "text": [
      "Most Common Tokens:\n",
      "the: 80 occurrences\n",
      "of: 77 occurrences\n",
      "to: 55 occurrences\n",
      "mit: 46 occurrences\n",
      "a: 40 occurrences\n"
     ]
    }
   ],
   "source": [
    "# Load the spaCy language model\n",
    "nlp = spacy.load(\"en_core_web_sm\")\n",
    "\n",
    "# Read HTML content from the file\n",
    "with open(\"Article.html\", \"r\", encoding=\"utf-8\") as file:\n",
    "    html_content = file.read()\n",
    "\n",
    "# Parse HTML using Beautiful Soup\n",
    "soup = BeautifulSoup(html_content, \"html.parser\")\n",
    "\n",
    "# Extract text from the article\n",
    "article_text = soup.get_text()\n",
    "\n",
    "# Process the article text using spaCy\n",
    "doc = nlp(article_text)\n",
    "\n",
    "# Calculate token frequencies\n",
    "token_counter = Counter([token.text.lower() for token in doc if not token.is_punct and not token.is_space])\n",
    "\n",
    "# Get the 5 most common tokens\n",
    "most_common_tokens = token_counter.most_common(5)\n",
    "\n",
    "# Print the common tokens and their frequencies\n",
    "print(\"Most Common Tokens:\")\n",
    "for token, frequency in most_common_tokens:\n",
    "    print(f\"{token}: {frequency} occurrences\")"
   ]
  },
  {
   "cell_type": "markdown",
   "metadata": {},
   "source": [
    "4. Load the article text into a trained `spaCy` pipeline, and determine the 5 most frequent lemmas (converted to lower case).  Print the common lemmas with an appropriate label.  Additionally, print the lemmas with their frequencies (with appropriate labels)."
   ]
  },
  {
   "cell_type": "code",
   "execution_count": 5,
   "metadata": {},
   "outputs": [
    {
     "name": "stdout",
     "output_type": "stream",
     "text": [
      "Most Common Lemmas:\n",
      "the: 80 occurrences\n",
      "of: 77 occurrences\n",
      "to: 55 occurrences\n",
      "mit: 46 occurrences\n",
      "cancer: 41 occurrences\n"
     ]
    }
   ],
   "source": [
    "# Load the spaCy language model\n",
    "nlp = spacy.load(\"en_core_web_sm\")\n",
    "\n",
    "# Read HTML content from the file\n",
    "with open(\"Article.html\", \"r\", encoding=\"utf-8\") as file:\n",
    "    html_content = file.read()\n",
    "\n",
    "# Parse HTML using Beautiful Soup\n",
    "soup = BeautifulSoup(html_content, \"html.parser\")\n",
    "\n",
    "# Extract text from the article\n",
    "article_text = soup.get_text()\n",
    "\n",
    "# Process the article text using spaCy\n",
    "doc = nlp(article_text)\n",
    "\n",
    "# Calculate lemma frequencies\n",
    "lemma_counter = Counter([token.lemma_.lower() for token in doc if not token.is_punct and not token.is_space])\n",
    "\n",
    "# Get the 5 most common lemmas\n",
    "most_common_lemmas = lemma_counter.most_common(5)\n",
    "\n",
    "# Print the common lemmas and their frequencies\n",
    "print(\"Most Common Lemmas:\")\n",
    "for lemma, frequency in most_common_lemmas:\n",
    "    print(f\"{lemma}: {frequency} occurrences\")\n"
   ]
  },
  {
   "cell_type": "markdown",
   "metadata": {},
   "source": [
    "5. Make a list containing the scores (using tokens) of every sentence in the article, and plot a histogram with appropriate titles and axis labels of the scores. From your histogram, what seems to be the most common range of scores (put the answer in a comment after your code)?"
   ]
  },
  {
   "cell_type": "code",
   "execution_count": 6,
   "metadata": {},
   "outputs": [
    {
     "name": "stderr",
     "output_type": "stream",
     "text": [
      "[nltk_data] Downloading package vader_lexicon to\n",
      "[nltk_data]     C:\\Users\\mpabb\\AppData\\Roaming\\nltk_data...\n",
      "[nltk_data]   Package vader_lexicon is already up-to-date!\n"
     ]
    },
    {
     "data": {
      "image/png": "[encoded data removed]",
      "text/plain": [
       "<Figure size 720x432 with 1 Axes>"
      ]
     },
     "metadata": {
      "needs_background": "light"
     },
     "output_type": "display_data"
    }
   ],
   "source": [
    "# Load the spaCy language model\n",
    "nlp = spacy.load(\"en_core_web_sm\")\n",
    "\n",
    "# Load NLTK's VADER SentimentIntensityAnalyzer\n",
    "nltk.download('vader_lexicon')\n",
    "sid = SentimentIntensityAnalyzer()\n",
    "\n",
    "# Read HTML content from the file\n",
    "with open(\"Article.html\", \"r\", encoding=\"utf-8\") as file:\n",
    "    html_content = file.read()\n",
    "\n",
    "# Parse HTML using Beautiful Soup\n",
    "soup = BeautifulSoup(html_content, \"html.parser\")\n",
    "\n",
    "# Extract text from the article\n",
    "article_text = soup.get_text()\n",
    "\n",
    "# Tokenize the article text into sentences\n",
    "sentences = sent_tokenize(article_text)\n",
    "\n",
    "# Calculate sentiment scores for each sentence\n",
    "sentence_scores = [sid.polarity_scores(sentence)[\"compound\"] for sentence in sentences]\n",
    "\n",
    "# Plot a histogram of the sentence scores\n",
    "plt.figure(figsize=(10, 6))\n",
    "plt.hist(sentence_scores, bins=20, edgecolor=\"k\")\n",
    "plt.title(\"Sentiment Scores Distribution(Tokens)\")\n",
    "plt.xlabel(\"Sentiment Score\")\n",
    "plt.ylabel(\"Frequency\")\n",
    "plt.grid(True)\n",
    "plt.show()\n",
    "#The most common seem to be slightly below 0"
   ]
  },
  {
   "cell_type": "markdown",
   "metadata": {},
   "source": [
    "6. Make a list containing the scores (using lemmas) of every sentence in the article, and plot a histogram with appropriate titles and axis labels of the scores.  From your histogram, what seems to be the most common range of scores (put the answer in a comment after your code)?"
   ]
  },
  {
   "cell_type": "code",
   "execution_count": 7,
   "metadata": {},
   "outputs": [
    {
     "name": "stderr",
     "output_type": "stream",
     "text": [
      "[nltk_data] Downloading package vader_lexicon to\n",
      "[nltk_data]     C:\\Users\\mpabb\\AppData\\Roaming\\nltk_data...\n",
      "[nltk_data]   Package vader_lexicon is already up-to-date!\n"
     ]
    },
    {
     "data": {
      "image/png": "[encoded data removed]",
      "text/plain": [
       "<Figure size 720x432 with 1 Axes>"
      ]
     },
     "metadata": {
      "needs_background": "light"
     },
     "output_type": "display_data"
    }
   ],
   "source": [
    "# Load the spaCy language model\n",
    "nlp = spacy.load(\"en_core_web_sm\")\n",
    "\n",
    "# Load NLTK's VADER SentimentIntensityAnalyzer\n",
    "nltk.download('vader_lexicon')\n",
    "sid = SentimentIntensityAnalyzer()\n",
    "\n",
    "# Read HTML content from the file\n",
    "with open(\"Article.html\", \"r\", encoding=\"utf-8\") as file:\n",
    "    html_content = file.read()\n",
    "\n",
    "# Parse HTML using Beautiful Soup\n",
    "soup = BeautifulSoup(html_content, \"html.parser\")\n",
    "\n",
    "# Extract text from the article\n",
    "article_text = soup.get_text()\n",
    "\n",
    "# Tokenize the article text into sentences\n",
    "sentences = sent_tokenize(article_text)\n",
    "\n",
    "# Calculate sentiment scores for each sentence using lemmatized tokens\n",
    "sentence_scores = []\n",
    "for sentence in sentences:\n",
    "    doc = nlp(sentence)\n",
    "    lemma_scores = [sid.polarity_scores(token.lemma_)[\"compound\"] for token in doc if not token.is_punct and not token.is_space]\n",
    "    if lemma_scores:\n",
    "        sentence_scores.append(sum(lemma_scores) / len(lemma_scores))\n",
    "\n",
    "# Plot a histogram of the sentence scores\n",
    "plt.figure(figsize=(10, 6))\n",
    "plt.hist(sentence_scores, bins=20, edgecolor=\"k\")\n",
    "plt.title(\"Sentiment Scores Distribution (Lemmas)\")\n",
    "plt.xlabel(\"Sentiment Score\")\n",
    "plt.ylabel(\"Frequency\")\n",
    "plt.grid(True)\n",
    "plt.show()\n",
    "#The most common range seems to be at 0.00 and the vast majority are between -.025 and 0.025."
   ]
  },
  {
   "cell_type": "markdown",
   "metadata": {},
   "source": [
    "7. Using the histograms from questions 5 and 6, decide a \"cutoff\" score for tokens and lemmas such that fewer than half the sentences would have a score greater than the cutoff score.  Record the scores in this Markdown cell\n",
    "\n",
    "* Cutoff Score (tokens): 0.025\n",
    "* Cutoff Score (lemmas): 0.02\n",
    "\n",
    "Feel free to change these scores as you generate your summaries.  Ideally, we're shooting for at least 6 sentences for our summary, but don't want more than 10 (these numbers are rough estimates; they depend on the length of your article)."
   ]
  },
  {
   "cell_type": "markdown",
   "metadata": {},
   "source": [
    "8. Create a summary of the article by going through every sentence in the article and adding it to an (initially) empty list if its score (based on tokens) is greater than the cutoff score you identified in question 8.  If your loop variable is named `sent`, you may find it easier to add `sent.text.strip()` to your list of sentences.  Print the summary (I would cleanly generate the summary text by `join`ing the strings in your list together with a space (`' '.join(sentence_list)`)."
   ]
  },
  {
   "cell_type": "code",
   "execution_count": 22,
   "metadata": {},
   "outputs": [
    {
     "name": "stdout",
     "output_type": "stream",
     "text": [
      "A credit line must be used when reproducing images; if one is not provided \n",
      "    below, credit the images to \"MIT.\" The researchers now hope to expand their model to include other types of data, such as pathology images and radiology images, to provide a more comprehensive prediction using multiple data modalities. This information “can help determine more effective treatment decisions for patients and caregivers,” writes Tran. Read full story →\n",
      "            \n",
      "\n",
      "\n",
      "\n",
      "\n",
      "\n",
      "\n",
      "\n",
      "\n",
      "\n",
      "\n",
      "\n",
      "3 Questions: Boosting concrete’s ability to serve as a natural “carbon sink”\n",
      "\n",
      "\n",
      "              MIT CSHub postdoc Damian Stefaniuk unpacks new research to bolster concrete’s natural carbon sequestration potential by adding sodium bicarbonate in mixes. Read full story →\n",
      "            \n",
      "\n",
      "\n",
      "\n",
      "\n",
      "\n",
      "\n",
      "\n",
      "\n",
      "\n",
      "\n",
      "\n",
      "\n",
      "\n",
      "Freeman Hrabowski encourages students to “hold fast to dreams” and take time for laughter \n",
      "\n",
      "\n",
      "              In a visit to MIT, the educator and author led a lively and inspiring Q&A with students.\n"
     ]
    }
   ],
   "source": [
    "# Your chosen cutoff score for tokens\n",
    "cutoff_score_tokens = 0.03\n",
    "\n",
    "# Create an empty list to store sentences for the summary\n",
    "summary_sentences = []\n",
    "\n",
    "# Iterate through each sentence in the article\n",
    "for sent in sentences:\n",
    "    # Process the sentence using spaCy\n",
    "    doc = nlp(sent)\n",
    "    \n",
    "    # Calculate the average sentiment score for tokens in the sentence\n",
    "    token_scores = [sid.polarity_scores(token.text)[\"compound\"] for token in doc if not token.is_punct and not token.is_space]\n",
    "    avg_token_score = sum(token_scores) / len(token_scores) if token_scores else 0.0\n",
    "    \n",
    "    # Add the sentence to the summary if its score is above the cutoff\n",
    "    if avg_token_score > cutoff_score_tokens:\n",
    "        summary_sentences.append(sent.strip())  # Use sent.strip() instead of sent.text.strip()\n",
    "\n",
    "# Generate the summary text by joining the sentences\n",
    "summary_text = ' '.join(summary_sentences)\n",
    "\n",
    "# Print the summary\n",
    "if summary_text:\n",
    "    print(summary_text)\n",
    "else:\n",
    "    print(\"No sentences meet the cutoff criteria.\")"
   ]
  },
  {
   "cell_type": "code",
   "execution_count": 30,
   "metadata": {},
   "outputs": [
    {
     "name": "stdout",
     "output_type": "stream",
     "text": [
      "A credit line must be used when reproducing images; if one is not provided \n",
      "    below, credit the images to \"MIT.\" The researchers now hope to expand their model to include other types of data, such as pathology images and radiology images, to provide a more comprehensive prediction using multiple data modalities. This information “can help determine more effective treatment decisions for patients and caregivers,” writes Tran. Read full story →\n",
      "            \n",
      "\n",
      "\n",
      "\n",
      "\n",
      "\n",
      "\n",
      "\n",
      "\n",
      "\n",
      "\n",
      "\n",
      "3 Questions: Boosting concrete’s ability to serve as a natural “carbon sink”\n",
      "\n",
      "\n",
      "              MIT CSHub postdoc Damian Stefaniuk unpacks new research to bolster concrete’s natural carbon sequestration potential by adding sodium bicarbonate in mixes. Read full story →\n",
      "            \n",
      "\n",
      "\n",
      "\n",
      "\n",
      "\n",
      "\n",
      "\n",
      "\n",
      "\n",
      "\n",
      "\n",
      "\n",
      "\n",
      "Freeman Hrabowski encourages students to “hold fast to dreams” and take time for laughter \n",
      "\n",
      "\n",
      "              In a visit to MIT, the educator and author led a lively and inspiring Q&A with students.\n"
     ]
    }
   ],
   "source": [
    "# Your chosen cutoff score for lemmas\n",
    "cutoff_score_lemmas = 0.025\n",
    "\n",
    "# Create an empty list to store sentences for the lemma-based summary\n",
    "summary_sentences_lemmas = []\n",
    "\n",
    "# Iterate through each sentence in the article\n",
    "for sent in sentences:\n",
    "    # Process the sentence using spaCy\n",
    "    doc = nlp(sent)\n",
    "    \n",
    "    # Calculate the average sentiment score for lemmas in the sentence\n",
    "    lemma_scores = [sid.polarity_scores(token.lemma_)[\"compound\"] for token in doc if not token.is_punct and not token.is_space]\n",
    "    avg_lemma_score = sum(lemma_scores) / len(lemma_scores) if lemma_scores else 0.0\n",
    "    \n",
    "    # Add the sentence to the lemma-based summary if its score is above the cutoff\n",
    "    if avg_lemma_score > cutoff_score_lemmas:\n",
    "        summary_sentences_lemmas.append(sent.strip())\n",
    "\n",
    "# Generate the lemma-based summary text by joining the sentences\n",
    "summary_text_lemmas = ' '.join(summary_sentences_lemmas)\n",
    "\n",
    "# Print the lemma-based summary\n",
    "if summary_text_lemmas:\n",
    "    print(summary_text_lemmas)\n",
    "else:\n",
    "    print(\"No sentences meet the cutoff criteria.\")"
   ]
  },
  {
   "cell_type": "markdown",
   "metadata": {},
   "source": [
    "9. Print the polarity score of your summary you generated with the token scores (with an appropriate label). Additionally, print the number of sentences in the summarized article."
   ]
  },
  {
   "cell_type": "code",
   "execution_count": 25,
   "metadata": {},
   "outputs": [
    {
     "name": "stdout",
     "output_type": "stream",
     "text": [
      "Summary Polarity Score: 0.9899\n",
      "Number of Sentences in Summarized Article: 6\n"
     ]
    }
   ],
   "source": [
    "# Your chosen cutoff score for tokens\n",
    "cutoff_score_tokens = 0.025 \n",
    "\n",
    "# Create an empty list to store sentences for the summary\n",
    "summary_sentences = []\n",
    "\n",
    "# Iterate through each sentence in the article\n",
    "for sent in sentences:\n",
    "    # Process the sentence using spaCy\n",
    "    doc = nlp(sent)\n",
    "    \n",
    "    # Calculate the average sentiment score for tokens in the sentence\n",
    "    token_scores = [sid.polarity_scores(token.text)[\"compound\"] for token in doc if not token.is_punct and not token.is_space]\n",
    "    avg_token_score = sum(token_scores) / len(token_scores) if token_scores else 0.0\n",
    "    \n",
    "    # Add the sentence to the summary if its score is above the cutoff\n",
    "    if avg_token_score > cutoff_score_tokens:\n",
    "        summary_sentences.append(sent.strip())  # Use sent.strip() instead of sent.text.strip()\n",
    "\n",
    "# Generate the summary text by joining the sentences\n",
    "summary_text = ' '.join(summary_sentences)\n",
    "\n",
    "# Calculate sentiment score for the summary\n",
    "summary_score = sid.polarity_scores(summary_text)[\"compound\"]\n",
    "\n",
    "# Print the summary's polarity score\n",
    "print(\"Summary Polarity Score:\", summary_score)\n",
    "\n",
    "# Print the number of sentences in the summarized article\n",
    "num_summary_sentences = len(summary_sentences)\n",
    "print(\"Number of Sentences in Summarized Article:\", num_summary_sentences)"
   ]
  },
  {
   "cell_type": "markdown",
   "metadata": {},
   "source": [
    "10. Create a summary of the article by going through every sentence in the article and adding it to an (initially) empty list if its score (based on lemmas) is greater than the cutoff score you identified in question 8.  If your loop variable is named `sent`, you may find it easier to add `sent.text.strip()` to your list of sentences.  Print the summary (I would cleanly generate the summary text by `join`ing the strings in your list together with a space (`' '.join(sentence_list)`)."
   ]
  },
  {
   "cell_type": "code",
   "execution_count": 27,
   "metadata": {},
   "outputs": [
    {
     "name": "stdout",
     "output_type": "stream",
     "text": [
      "Average Lemma Score: 0.005724561403508773\n",
      "Average Lemma Score: -0.004831034482758621\n",
      "Average Lemma Score: -0.010524657534246576\n",
      "Average Lemma Score: 0.013492307692307692\n",
      "Average Lemma Score: 0.0\n",
      "Average Lemma Score: 0.03818\n",
      "Average Lemma Score: -0.0192075\n",
      "Average Lemma Score: -0.037504\n",
      "Average Lemma Score: -0.07002499999999999\n",
      "Average Lemma Score: -0.03255555555555555\n",
      "Average Lemma Score: -0.003393749999999999\n",
      "Average Lemma Score: 0.004293333333333336\n",
      "Average Lemma Score: -0.009113793103448274\n",
      "Average Lemma Score: -0.008316363636363636\n",
      "Average Lemma Score: -0.022748275862068963\n",
      "Average Lemma Score: -0.0382060606060606\n",
      "Average Lemma Score: -0.10414999999999999\n",
      "Average Lemma Score: -0.03283103448275862\n",
      "Average Lemma Score: -0.005903225806451611\n",
      "Average Lemma Score: -0.018809302325581395\n",
      "Average Lemma Score: -0.004574999999999998\n",
      "Average Lemma Score: -0.04123125\n",
      "Average Lemma Score: -0.027487499999999998\n",
      "Average Lemma Score: -0.04755454545454545\n",
      "Average Lemma Score: -0.015908333333333333\n",
      "Average Lemma Score: 0.0\n",
      "Average Lemma Score: 0.006133333333333337\n",
      "Average Lemma Score: 0.005366666666666665\n",
      "Average Lemma Score: 0.00715555555555556\n",
      "Average Lemma Score: -0.024797619047619044\n",
      "Average Lemma Score: -0.033748387096774184\n",
      "Average Lemma Score: -0.009045454545454544\n",
      "Average Lemma Score: -0.0748375\n",
      "Average Lemma Score: -0.03492272727272727\n",
      "Average Lemma Score: 0.016311111111111113\n",
      "Average Lemma Score: -0.016804347826086953\n",
      "Average Lemma Score: -0.02433023255813953\n",
      "Average Lemma Score: -0.011016129032258064\n",
      "Average Lemma Score: 0.0\n",
      "Average Lemma Score: 0.0\n",
      "Average Lemma Score: 0.0\n",
      "Average Lemma Score: 0.03253548387096774\n",
      "Average Lemma Score: -0.004916129032258062\n",
      "Average Lemma Score: 0.013858620689655172\n",
      "Average Lemma Score: -0.009325641025641025\n",
      "Average Lemma Score: -0.018319565217391302\n",
      "Average Lemma Score: 0.05857333333333334\n",
      "Average Lemma Score: 0.011011450381679392\n",
      "Average Lemma Score: 0.036987179487179486\n",
      "Average Lemma Score: -0.004260606060606062\n",
      "Average Lemma Score: 0.013848076923076923\n",
      "Average Lemma Score: 0.07624857142857143\n",
      "Average Lemma Score: 0.024234782608695653\n",
      "Average Lemma Score: 0.0\n",
      "Average Lemma Score: 0.012013541666666664\n",
      "Average Lemma Score: 0.007224\n",
      "Summary Sentences: []\n",
      "Number of Sentences in Summary: 0\n",
      "\n"
     ]
    }
   ],
   "source": [
    "# Your chosen cutoff score for lemmas\n",
    "cutoff_score_lemmas = 0.2 \n",
    "# Create an empty list to store sentences for the summary\n",
    "summary_sentences_lemmas = []\n",
    "\n",
    "# Iterate through each sentence in the article\n",
    "for sent in sentences:\n",
    "    # Process the sentence using spaCy\n",
    "    doc = nlp(sent)\n",
    "    \n",
    "    # Calculate the average sentiment score for lemmas in the sentence\n",
    "    lemma_scores = [sid.polarity_scores(token.lemma_)[\"compound\"] for token in doc if not token.is_punct and not token.is_space]\n",
    "    avg_lemma_score = sum(lemma_scores) / len(lemma_scores) if lemma_scores else 0.0\n",
    "    \n",
    "    # Debugging: Print the average lemma score for each sentence\n",
    "    print(\"Average Lemma Score:\", avg_lemma_score)\n",
    "    \n",
    "    # Add the sentence to the summary if its score is above the cutoff\n",
    "    if avg_lemma_score > cutoff_score_lemmas:\n",
    "        summary_sentences_lemmas.append(sent.strip())\n",
    "\n",
    "# Generate the lemma-based summary text by joining the sentences\n",
    "summary_text_lemmas = ' '.join(summary_sentences_lemmas)\n",
    "\n",
    "# Debugging: Print the summary sentences and its length\n",
    "print(\"Summary Sentences:\", summary_sentences_lemmas)\n",
    "print(\"Number of Sentences in Summary:\", len(summary_sentences_lemmas))\n",
    "\n",
    "# Print the lemma-based summary\n",
    "print(summary_text_lemmas)"
   ]
  },
  {
   "cell_type": "markdown",
   "metadata": {},
   "source": [
    "11. Print the polarity score of your summary you generated with the lemma scores (with an appropriate label). Additionally, print the number of sentences in the summarized article."
   ]
  },
  {
   "cell_type": "code",
   "execution_count": 35,
   "metadata": {},
   "outputs": [
    {
     "name": "stdout",
     "output_type": "stream",
     "text": [
      "Lemma-based Summary Polarity Score: 0.9915\n",
      "Number of Sentences in Lemma-based Summarized Article: 6\n"
     ]
    }
   ],
   "source": [
    "# Your chosen cutoff score for lemmas\n",
    "cutoff_score_lemmas = 0.02  # Replace with your actual cutoff score for lemmas\n",
    "\n",
    "# Create an empty list to store sentences for the lemma-based summary\n",
    "summary_sentences_lemmas = []\n",
    "\n",
    "# Iterate through each sentence in the article\n",
    "for sent in sentences:\n",
    "    # Process the sentence using spaCy\n",
    "    doc = nlp(sent)\n",
    "    \n",
    "    # Calculate the average sentiment score for lemmas in the sentence\n",
    "    lemma_scores = [sid.polarity_scores(token.lemma_)[\"compound\"] for token in doc if not token.is_punct and not token.is_space]\n",
    "    avg_lemma_score = sum(lemma_scores) / len(lemma_scores) if lemma_scores else 0.0\n",
    "    \n",
    "    # Add the sentence to the lemma-based summary if its score is above the cutoff\n",
    "    if avg_lemma_score > cutoff_score_lemmas:\n",
    "        summary_sentences_lemmas.append(sent.strip())\n",
    "\n",
    "# Generate the lemma-based summary text by joining the sentences\n",
    "summary_text_lemmas = ' '.join(summary_sentences_lemmas)\n",
    "\n",
    "# Calculate sentiment score for the lemma-based summary\n",
    "summary_score_lemmas = sid.polarity_scores(summary_text_lemmas)[\"compound\"]\n",
    "\n",
    "# Print the lemma-based summary's polarity score\n",
    "print(\"Lemma-based Summary Polarity Score:\", summary_score_lemmas)\n",
    "\n",
    "# Print the number of sentences in the lemma-based summarized article\n",
    "num_summary_sentences_lemmas = len(summary_sentences_lemmas)\n",
    "print(\"Number of Sentences in Lemma-based Summarized Article:\", num_summary_sentences_lemmas)"
   ]
  },
  {
   "cell_type": "markdown",
   "metadata": {},
   "source": [
    "12.  Compare your polarity scores of your summaries to the polarity scores of the initial article.  Is there a difference?  Why do you think that may or may not be?.  Answer in this Markdown cell.  \n",
    "\n",
    "They are all fairly similar which makes sense. It is a mildly positive story about determining cancer by ai."
   ]
  },
  {
   "cell_type": "markdown",
   "metadata": {},
   "source": [
    "13. Based on your reading of the original article, which summary do you think is better (if there's a difference).  Why do you think this might be?\n",
    "\n",
    "The original rating because it shows in a slightly positive light what this technology can do."
   ]
  },
  {
   "cell_type": "code",
   "execution_count": null,
   "metadata": {},
   "outputs": [],
   "source": []
  }
 ],
 "metadata": {
  "kernelspec": {
   "display_name": "Python 3 (ipykernel)",
   "language": "python",
   "name": "python3"
  },
  "language_info": {
   "codemirror_mode": {
    "name": "ipython",
    "version": 3
   },
   "file_extension": ".py",
   "mimetype": "text/x-python",
   "name": "python",
   "nbconvert_exporter": "python",
   "pygments_lexer": "ipython3",
   "version": "3.9.12"
  }
 },
 "nbformat": 4,
 "nbformat_minor": 4
}
